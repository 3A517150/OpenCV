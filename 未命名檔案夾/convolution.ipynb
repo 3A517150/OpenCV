{
 "cells": [
  {
   "cell_type": "code",
   "execution_count": 7,
   "metadata": {},
   "outputs": [],
   "source": [
    "import cv2\n",
    "import numpy as np\n"
   ]
  },
  {
   "cell_type": "markdown",
   "metadata": {},
   "source": [
    "將輸入圖片進行處理\n",
    "- input_data 是Lenna的灰階照片\n",
    "- filter_h 卷積核的高\n",
    "- filter_w 卷積核的長\n",
    "- stride 步幅\n",
    "- pad 填充"
   ]
  },
  {
   "cell_type": "code",
   "execution_count": 8,
   "metadata": {},
   "outputs": [],
   "source": [
    "# N = 檔案數量 ,C = 通道數 ,H = 高 ,W = 長\n",
    "def im2col(input_data, filter_h, filter_w, stride=1, pad=1):\n",
    "    N, C, H, W = input_data.shape  \n",
    "    # 運算子 // 取商值\n",
    "    # 因為卷積核上下左右都是圖片會被切掉的地方，所以原大小先除掉卷積核高與長\n",
    "    # 再除1步長，最後再加卷積核中間的1\n",
    "    out_h = (H + 2*pad - filter_h)//stride + 1  # 輸出資料的高\n",
    "    out_w = (W + 2*pad - filter_w)//stride + 1  # 輸出資料的長\n",
    "    # 填充 H,W\n",
    "    # 想了解np.pad部分可以看 np_pad矩陣填充.ipynb\n",
    "    img = np.pad(input_data, [(0,0), (0,0), (pad, pad), (pad, pad)], 'constant')\n",
    "    # (N, C, filter_h, filter_w, out_h, out_w)的0矩陣\n",
    "    col = np.zeros((N, C, filter_h, filter_w, out_h, out_w))\n",
    "    \n",
    "    for y in range(filter_h):\n",
    "        y_max = y + stride*out_h\n",
    "        for x in range(filter_w):\n",
    "            x_max = x + stride*out_w\n",
    "            col[:, :, y, x, :, :] = img[:, :, y:y_max:stride, x:x_max:stride]\n",
    "    # 按(0, 4, 5, 1, 2, 3)順序，交換col的列，然後改變形狀\n",
    "    col = col.transpose(0, 4, 5, 1, 2, 3).reshape(N*out_h*out_w, -1)\n",
    "    return col"
   ]
  },
  {
   "cell_type": "code",
   "execution_count": 9,
   "metadata": {},
   "outputs": [],
   "source": [
    "def col2im(col, input_shape, filter_h, filter_w, stride=1, pad=0):\n",
    "    N, C, H, W = input_shape\n",
    "    out_h = (H + 2*pad - filter_h)//stride + 1\n",
    "    out_w = (W + 2*pad - filter_w)//stride + 1\n",
    "    col = col.reshape(N, out_h, out_w, C, filter_h, filter_w).transpose(0, 3, 4, 5, 1, 2)\n",
    "\n",
    "    img = np.zeros((N, C, H + 2*pad + stride - 1, W + 2*pad + stride - 1))\n",
    "    for y in range(filter_h):\n",
    "        y_max = y + stride*out_h\n",
    "        for x in range(filter_w):\n",
    "            x_max = x + stride*out_w\n",
    "            img[:, :, y:y_max:stride, x:x_max:stride] += col[:, :, y, x, :, :]\n",
    "\n",
    "    return img[:, :, pad:H + pad, pad:W + pad]"
   ]
  },
  {
   "cell_type": "markdown",
   "metadata": {},
   "source": [
    "在這裏學到了在矩陣中提取矩陣,再透由RGB 轉 YIQ的方式\n",
    "- Y是提供黑白電視及彩色電視的亮度信號（Luminance），即亮度（Brightness)\n",
    "- I代表In-phase，色彩從橙色到青色\n",
    "- Q代表Quadrature-phase，色彩從紫色到黃綠色"
   ]
  },
  {
   "cell_type": "code",
   "execution_count": 10,
   "metadata": {},
   "outputs": [
    {
     "name": "stdout",
     "output_type": "stream",
     "text": [
      "(316, 316, 3)\n"
     ]
    }
   ],
   "source": [
    "Photo = cv2.imread(r'/Users/yeshiouwei/Desktop/影像辨識/Lenna.jpg')\n",
    "a =[[0.299,0.587,0.114],[0.596,-0.275,-0.321],[0.212,-0.523,0.311]]\n",
    "a = np.array(a)\n",
    "for x in range(316):\n",
    "    a = (Photo[x][0])[0]\n",
    "    b = (Photo[x][0])[1]\n",
    "    c = (Photo[x][0])[2]\n",
    "    Photo[x][0] = 0.299 * a + 0.587 * b + 0.114 * c\n",
    "    #print(Photo[x][0])\n",
    "    for y in range(316):\n",
    "        a = (Photo[x][y])[0]\n",
    "        b = (Photo[x][y])[1]\n",
    "        c = (Photo[x][y])[2]\n",
    "        Photo[x][y] = 0.299 * a + 0.587 * b + 0.114 * c\n",
    "cv2.imwrite(r'/Users/yeshiouwei/Desktop/影像辨識/Lenna_gray.jpg', Photo)\n",
    "print(Photo.shape)"
   ]
  },
  {
   "cell_type": "code",
   "execution_count": 14,
   "metadata": {},
   "outputs": [
    {
     "name": "stdout",
     "output_type": "stream",
     "text": [
      "(1, 3, 316, 316)\n",
      "(99856, 27)\n",
      "(27,)\n",
      "[[  0.   0.   0. ...   0.  63.  63.]\n",
      " [  0.   0.   0. ...  63.  63.  63.]\n",
      " [  0.   0.   0. ...  63.  63.  59.]\n",
      " ...\n",
      " [141. 139. 139. ...   0.   0.   0.]\n",
      " [139. 139. 139. ...   0.   0.   0.]\n",
      " [139. 139.   0. ...   0.   0.   0.]]\n"
     ]
    },
    {
     "data": {
      "text/plain": [
       "True"
      ]
     },
     "execution_count": 14,
     "metadata": {},
     "output_type": "execute_result"
    }
   ],
   "source": [
    "in_Photo = cv2.imread(r'/Users/yeshiouwei/Desktop/影像辨識/Lenna_gray.jpg')\n",
    "in_Photo_4D = np.reshape(in_Photo,(1,3,316,316))\n",
    "print(in_Photo_4D.shape)\n",
    "print(im2col(in_Photo_4D,3,3,1,1).shape)\n",
    "B = im2col(in_Photo_4D,3,3,1,1)\n",
    "C = np.array([1/16,2/16,1/16,2/16,4/16,2/16,1/16,2/16,1/16,\n",
    "              1/16,2/16,1/16,2/16,4/16,2/16,1/16,2/16,1/16,\n",
    "              1/16,2/16,1/16,2/16,4/16,2/16,1/16,2/16,1/16])\n",
    "print(C.shape)\n",
    "D = np.dot(B,C)\n",
    "print(B)\n",
    "E = np.reshape(D,(316,316,1))\n",
    "cv2.imwrite(r'/Users/yeshiouwei/Desktop/影像辨識/Lenna_Convolution.jpg', E)"
   ]
  },
  {
   "cell_type": "code",
   "execution_count": null,
   "metadata": {},
   "outputs": [],
   "source": [
    "class Convolution:\n",
    "\t# 初始化權重（卷積核4維）、偏置、步幅、填充\n",
    "    def __init__(self, W, b, stride=1, pad=0):\n",
    "        self.W = W\n",
    "        self.b = b\n",
    "        self.stride = stride\n",
    "        self.pad = pad\n",
    "        \n",
    "        # 中間資料（backward時使用）\n",
    "        self.x = None   \n",
    "        self.col = None\n",
    "        self.col_W = None\n",
    "        \n",
    "        # 權重和偏置引數的梯度\n",
    "        self.dW = None\n",
    "        self.db = None\n",
    "\n",
    "    def forward(self, x):\n",
    "        # 卷積核大小\n",
    "        FN, C, FH, FW = self.W.shape\n",
    "        # 資料資料大小\n",
    "        N, C, H, W = x.shape\n",
    "        # 計算輸出資料大小\n",
    "        out_h = 1 + int((H + 2*self.pad - FH) / self.stride)\n",
    "        out_w = 1 + int((W + 2*self.pad - FW) / self.stride)\n",
    "        # 利用im2col轉換為行\n",
    "        col = im2col(x, FH, FW, self.stride, self.pad)\n",
    "        # 卷積核轉換為列，展開為2維陣列\n",
    "        col_W = self.W.reshape(FN, -1).T\n",
    "        # 計算正向傳播\n",
    "        out = np.dot(col, col_W) + self.b\n",
    "        out = out.reshape(N, out_h, out_w, -1).transpose(0, 3, 1, 2)\n",
    "\n",
    "        self.x = x\n",
    "        self.col = col\n",
    "        self.col_W = col_W\n",
    "\n",
    "        return out\n",
    "\n",
    "    def backward(self, dout):\n",
    "        # 卷積核大小\n",
    "        FN, C, FH, FW = self.W.shape\n",
    "        dout = dout.transpose(0,2,3,1).reshape(-1, FN)\n",
    "\n",
    "        self.db = np.sum(dout, axis=0)\n",
    "        self.dW = np.dot(self.col.T, dout)\n",
    "        self.dW = self.dW.transpose(1, 0).reshape(FN, C, FH, FW)\n",
    "\n",
    "        dcol = np.dot(dout, self.col_W.T)\n",
    "        # 逆轉換\n",
    "        dx = col2im(dcol, self.x.shape, FH, FW, self.stride, self.pad)\n",
    "\n",
    "        return dx"
   ]
  },
  {
   "cell_type": "code",
   "execution_count": null,
   "metadata": {},
   "outputs": [],
   "source": [
    "class Pooling:\n",
    "    def __init__(self, pool_h, pool_w, stride=1, pad=0):\n",
    "        self.pool_h = pool_h\n",
    "        self.pool_w = pool_w\n",
    "        self.stride = stride\n",
    "        self.pad = pad\n",
    "        \n",
    "        self.x = None\n",
    "        self.arg_max = None\n",
    "\n",
    "    def forward(self, x):\n",
    "        N, C, H, W = x.shape\n",
    "        out_h = int(1 + (H - self.pool_h) / self.stride)\n",
    "        out_w = int(1 + (W - self.pool_w) / self.stride)\n",
    "\t\t# 展開\n",
    "        col = im2col(x, self.pool_h, self.pool_w, self.stride, self.pad)\n",
    "        col = col.reshape(-1, self.pool_h*self.pool_w)\n",
    "\t\t# 最大值\n",
    "        arg_max = np.argmax(col, axis=1)\n",
    "        out = np.max(col, axis=1)\n",
    "        # 轉換\n",
    "        out = out.reshape(N, out_h, out_w, C).transpose(0, 3, 1, 2)\n",
    "\n",
    "        self.x = x\n",
    "        self.arg_max = arg_max\n",
    "\n",
    "        return out\n",
    "\n",
    "    def backward(self, dout):\n",
    "        dout = dout.transpose(0, 2, 3, 1)\n",
    "        \n",
    "        pool_size = self.pool_h * self.pool_w\n",
    "        dmax = np.zeros((dout.size, pool_size))\n",
    "        dmax[np.arange(self.arg_max.size), self.arg_max.flatten()] = dout.flatten()\n",
    "        dmax = dmax.reshape(dout.shape + (pool_size,)) \n",
    "        \n",
    "        dcol = dmax.reshape(dmax.shape[0] * dmax.shape[1] * dmax.shape[2], -1)\n",
    "        dx = col2im(dcol, self.x.shape, self.pool_h, self.pool_w, self.stride, self.pad)\n",
    "        \n",
    "        return dx"
   ]
  }
 ],
 "metadata": {
  "kernelspec": {
   "display_name": "Python 3",
   "language": "python",
   "name": "python3"
  },
  "language_info": {
   "codemirror_mode": {
    "name": "ipython",
    "version": 3
   },
   "file_extension": ".py",
   "mimetype": "text/x-python",
   "name": "python",
   "nbconvert_exporter": "python",
   "pygments_lexer": "ipython3",
   "version": "3.8.0"
  }
 },
 "nbformat": 4,
 "nbformat_minor": 2
}
