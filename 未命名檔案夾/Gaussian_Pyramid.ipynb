{
 "cells": [
  {
   "cell_type": "code",
   "execution_count": 1,
   "metadata": {},
   "outputs": [],
   "source": [
    "import cv2 as cv"
   ]
  },
  {
   "cell_type": "code",
   "execution_count": 2,
   "metadata": {},
   "outputs": [],
   "source": [
    "def pyramid_demo(image):\n",
    "    level = 3\n",
    "    temp =image.copy()\n",
    "    pyramid_images = []\n",
    "    for i in range(level):\n",
    "        dst = cv.pyrDown(temp)\n",
    "        pyramid_images.append(dst)\n",
    "        cv.imshow(\"pyramid_down_\"+str(i),dst)\n",
    "        temp = dst.copy()\n",
    "    return pyramid_images\n",
    "def lapalian_demo(image):\n",
    "    pyramid_images =pyramid_demo(image)\n",
    "    level = len(pyramid_images)\n",
    "    for i in range(level-1 ,-1, -1):\n",
    "        if (i-1) < 0:\n",
    "            expand = cv.pyrUp(pyramid_images[i],dstsize = image.shape[:2])\n",
    "            lpls = cv.subtract(image,expand)\n",
    "            cv.imshow(\"lapalian_down_\"+str(i),lpls)\n",
    "        else:\n",
    "            expand = cv.pyrUp(pyramid_images[i],dstsize = pyramid_images[i-1].shape[:2])\n",
    "            lpls = cv.subtract(pyramid_images[i-1],expand)\n",
    "            cv.imshow(\"lapalian_down_\"+str(i),lpls)"
   ]
  },
  {
   "cell_type": "code",
   "execution_count": null,
   "metadata": {},
   "outputs": [
    {
     "name": "stdout",
     "output_type": "stream",
     "text": [
      "---------------- Python OpenCV Tutorial ----------------\n"
     ]
    }
   ],
   "source": [
    "print(\"---------------- Python OpenCV Tutorial ----------------\")\n",
    "src = cv.imread(\"/Users/yeshiouwei/Desktop/影像辨識/Lenna.jpg\")\n",
    "cv.namedWindow(\"input image\",cv.WINDOW_AUTOSIZE)\n",
    "cv.imshow(\"input image\",src)\n",
    "lapalian_demo(src)\n",
    "\n",
    "cv.waitKey(0)\n",
    "\n",
    "cv.destroyAllWindows()"
   ]
  },
  {
   "cell_type": "code",
   "execution_count": null,
   "metadata": {},
   "outputs": [],
   "source": []
  },
  {
   "cell_type": "code",
   "execution_count": null,
   "metadata": {},
   "outputs": [],
   "source": []
  }
 ],
 "metadata": {
  "kernelspec": {
   "display_name": "Python 3",
   "language": "python",
   "name": "python3"
  },
  "language_info": {
   "codemirror_mode": {
    "name": "ipython",
    "version": 3
   },
   "file_extension": ".py",
   "mimetype": "text/x-python",
   "name": "python",
   "nbconvert_exporter": "python",
   "pygments_lexer": "ipython3",
   "version": "3.8.0"
  }
 },
 "nbformat": 4,
 "nbformat_minor": 2
}
