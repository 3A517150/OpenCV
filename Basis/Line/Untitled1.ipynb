{
 "cells": [
  {
   "cell_type": "code",
   "execution_count": null,
   "metadata": {},
   "outputs": [],
   "source": [
    "import cv2\n",
    "\n",
    "# 讀取圖檔\n",
    "img = cv2.imread(\"/Users/yeshiouwei/Desktop/影像辨識圖片/THD/17_thd.jpg\")\n",
    "# 裁切區域的 x 與 y 座標（左上角）\n",
    "x = 100\n",
    "y = 100\n",
    "\n",
    "# 裁切區域的長度與寬度\n",
    "w = 250\n",
    "h = 150\n",
    "\n",
    "# 裁切圖片\n",
    "crop_img = img[0:155, 13:82]\n",
    "#crop_img = img[y:y+h, x:x+w]\n",
    "# 顯示圖片\n",
    "cv2.imshow(\"cropped\", crop_img)\n",
    "cv2.waitKey(0)"
   ]
  },
  {
   "cell_type": "code",
   "execution_count": null,
   "metadata": {},
   "outputs": [],
   "source": []
  }
 ],
 "metadata": {
  "kernelspec": {
   "display_name": "Python 3",
   "language": "python",
   "name": "python3"
  },
  "language_info": {
   "codemirror_mode": {
    "name": "ipython",
    "version": 3
   },
   "file_extension": ".py",
   "mimetype": "text/x-python",
   "name": "python",
   "nbconvert_exporter": "python",
   "pygments_lexer": "ipython3",
   "version": "3.8.0"
  }
 },
 "nbformat": 4,
 "nbformat_minor": 2
}
