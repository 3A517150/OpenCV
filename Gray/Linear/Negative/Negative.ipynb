{
 "cells": [
  {
   "cell_type": "code",
   "execution_count": 1,
   "metadata": {},
   "outputs": [],
   "source": [
    "import cv2\n",
    "import numpy as np\n",
    "import math\n",
    "from PIL import Image "
   ]
  },
  {
   "cell_type": "code",
   "execution_count": 2,
   "metadata": {},
   "outputs": [],
   "source": [
    "def Negative(imageGray):\n",
    "    H,W = imageGray.shape\n",
    "    L = np.ones([H,W])*256\n",
    "    image = np.uint8((L - 1) - imageGray)\n",
    "    return image"
   ]
  },
  {
   "cell_type": "code",
   "execution_count": null,
   "metadata": {},
   "outputs": [
    {
     "name": "stdout",
     "output_type": "stream",
     "text": [
      "[[162 162 162 ... 171 167 142]\n",
      " [162 162 162 ... 171 167 142]\n",
      " [162 162 162 ... 171 166 142]\n",
      " ...\n",
      " [ 51  49  51 ...  93  97  94]\n",
      " [ 44  47  51 ...  99 102 101]\n",
      " [ 44  51  53 ... 103 104 107]]\n",
      "=========================================\n",
      "[[ 93  93  93 ...  84  88 113]\n",
      " [ 93  93  93 ...  84  88 113]\n",
      " [ 93  93  93 ...  84  89 113]\n",
      " ...\n",
      " [204 206 204 ... 162 158 161]\n",
      " [211 208 204 ... 156 153 154]\n",
      " [211 204 202 ... 152 151 148]]\n"
     ]
    }
   ],
   "source": [
    "image = cv2.imread(\"/Users/yeshiouwei/Desktop/OpenCV/Image/Lenna.jpg\")\n",
    "imageGray = cv2.cvtColor(image,cv2.COLOR_BGR2GRAY)\n",
    "print(imageGray)\n",
    "print(\"=========================================\")\n",
    "imageTh = (Negative(imageGray))\n",
    "print(imageTh)\n",
    "htich = np.hstack((imageTh, imageGray))\n",
    "cv2.imshow(\"image\",htich)\n",
    "#cv2.imshow(\"image2\",imageGray)\n",
    "cv2.waitKey(0)\n",
    "cv2.destroyAllWindows()"
   ]
  },
  {
   "cell_type": "code",
   "execution_count": null,
   "metadata": {},
   "outputs": [],
   "source": []
  }
 ],
 "metadata": {
  "kernelspec": {
   "display_name": "Python 3",
   "language": "python",
   "name": "python3"
  },
  "language_info": {
   "codemirror_mode": {
    "name": "ipython",
    "version": 3
   },
   "file_extension": ".py",
   "mimetype": "text/x-python",
   "name": "python",
   "nbconvert_exporter": "python",
   "pygments_lexer": "ipython3",
   "version": "3.8.0"
  }
 },
 "nbformat": 4,
 "nbformat_minor": 2
}
