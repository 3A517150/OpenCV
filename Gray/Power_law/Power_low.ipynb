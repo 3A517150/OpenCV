{
 "cells": [
  {
   "cell_type": "code",
   "execution_count": 1,
   "metadata": {},
   "outputs": [],
   "source": [
    "import cv2\n",
    "import numpy as np\n",
    "import math"
   ]
  },
  {
   "cell_type": "code",
   "execution_count": 2,
   "metadata": {},
   "outputs": [],
   "source": [
    "def Power_law(imageGray):\n",
    "    H,W = imageGray.shape\n",
    "    r = 0.3\n",
    "    c = 100\n",
    "    imagePo = np.uint8(imageGray**r)*c\n",
    "    return imagePo"
   ]
  },
  {
   "cell_type": "code",
   "execution_count": 3,
   "metadata": {},
   "outputs": [
    {
     "name": "stdout",
     "output_type": "stream",
     "text": [
      "[[162 162 162 ... 171 167 142]\n",
      " [162 162 162 ... 171 167 142]\n",
      " [162 162 162 ... 171 166 142]\n",
      " ...\n",
      " [ 51  49  51 ...  93  97  94]\n",
      " [ 44  47  51 ...  99 102 101]\n",
      " [ 44  51  53 ... 103 104 107]]\n",
      "=========================================\n",
      "[[144 144 144 ... 144 144 144]\n",
      " [144 144 144 ... 144 144 144]\n",
      " [144 144 144 ... 144 144 144]\n",
      " ...\n",
      " [ 44  44  44 ...  44  44  44]\n",
      " [ 44  44  44 ...  44 144  44]\n",
      " [ 44  44  44 ... 144 144 144]]\n"
     ]
    }
   ],
   "source": [
    "image = cv2.imread(\"/Users/yeshiouwei/Desktop/OpenCV/Image/Lenna.jpg\")\n",
    "imageGray = cv2.cvtColor(image,cv2.COLOR_BGR2GRAY)\n",
    "imagePo = Power_law(imageGray)\n",
    "print(imageGray)\n",
    "print(\"=========================================\")\n",
    "print(imagePo)\n",
    "htich = np.hstack((imagePo, imageGray))\n",
    "cv2.imshow(\"image\",htich)\n",
    "cv2.waitKey(0)\n",
    "cv2.destroyAllWindows()"
   ]
  },
  {
   "cell_type": "code",
   "execution_count": null,
   "metadata": {},
   "outputs": [],
   "source": []
  }
 ],
 "metadata": {
  "kernelspec": {
   "display_name": "Python 3",
   "language": "python",
   "name": "python3"
  },
  "language_info": {
   "codemirror_mode": {
    "name": "ipython",
    "version": 3
   },
   "file_extension": ".py",
   "mimetype": "text/x-python",
   "name": "python",
   "nbconvert_exporter": "python",
   "pygments_lexer": "ipython3",
   "version": "3.8.0"
  }
 },
 "nbformat": 4,
 "nbformat_minor": 2
}
