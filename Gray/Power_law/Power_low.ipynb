{
 "cells": [
  {
   "cell_type": "code",
   "execution_count": null,
   "metadata": {},
   "outputs": [],
   "source": [
    "import cv2\n",
    "import numpy as np\n",
    "import math"
   ]
  },
  {
   "cell_type": "code",
   "execution_count": null,
   "metadata": {},
   "outputs": [],
   "source": [
    "def Power_law(imageGray):\n",
    "    H,W = imageGray.shape\n",
    "    r = 1\n",
    "    imagePo = np.uint8(imageGray**r)\n",
    "    thresh = 128\n",
    "    imageTh = cv2.threshold(imagePo,thresh,255,cv2.THRESH_BINARY)[1]\n",
    "    return imageTh"
   ]
  },
  {
   "cell_type": "code",
   "execution_count": null,
   "metadata": {},
   "outputs": [],
   "source": [
    "image = cv2.imread(\"/Users/yeshiouwei/Desktop/OpenCV/Image/Lenna.jpg\")\n",
    "imageGray = cv2.cvtColor(image,cv2.COLOR_BGR2GRAY)\n",
    "imageTh = Power_law(imageGray)\n",
    "\n",
    "htich = np.hstack((imageTh, imageGray))\n",
    "cv2.imshow(\"image\",htich)\n",
    "cv2.waitKey(0)\n",
    "cv2.destroyAllWindows()"
   ]
  },
  {
   "cell_type": "code",
   "execution_count": null,
   "metadata": {},
   "outputs": [],
   "source": []
  }
 ],
 "metadata": {
  "kernelspec": {
   "display_name": "Python 3",
   "language": "python",
   "name": "python3"
  },
  "language_info": {
   "codemirror_mode": {
    "name": "ipython",
    "version": 3
   },
   "file_extension": ".py",
   "mimetype": "text/x-python",
   "name": "python",
   "nbconvert_exporter": "python",
   "pygments_lexer": "ipython3",
   "version": "3.8.0"
  }
 },
 "nbformat": 4,
 "nbformat_minor": 2
}
