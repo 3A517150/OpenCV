{
 "cells": [
  {
   "cell_type": "markdown",
   "metadata": {},
   "source": [
    "# np.pad\n",
    "- ‘constant’——表示连续填充相同的值，每个轴可以分别指定填充值，constant_values=（x, y）时前面用x填充，后面用y填充，缺省值填充0\n",
    "- ‘edge’——表示用边缘值填充\n",
    "- ‘linear_ramp’——表示用边缘递减的方式填充\n",
    "- ‘maximum’——表示最大值填充\n",
    "- ‘mean’——表示均值填充\n",
    "- ‘median’——表示中位数填充\n",
    "- ‘minimum’——表示最小值填充\n",
    "- ‘reflect’——表示对称填充\n",
    "- ‘symmetric’——表示对称填充\n",
    "- ‘wrap’——表示用原数组后面的值填充前面，前面的值填充后面"
   ]
  },
  {
   "cell_type": "code",
   "execution_count": 3,
   "metadata": {},
   "outputs": [
    {
     "name": "stdout",
     "output_type": "stream",
     "text": [
      "[[95 96]\n",
      " [97 98]]\n"
     ]
    }
   ],
   "source": [
    "import numpy as np\n",
    "A = np.arange(95,99).reshape(2,2)\n",
    "print(A)"
   ]
  },
  {
   "cell_type": "code",
   "execution_count": 26,
   "metadata": {},
   "outputs": [
    {
     "name": "stdout",
     "output_type": "stream",
     "text": [
      "[[ 1  1  1  2]\n",
      " [ 1 95 96  2]\n",
      " [ 1 97 98  2]\n",
      " [ 1  2  2  2]]\n"
     ]
    }
   ],
   "source": [
    "# np.pad(<input>,<列上下填充(上,下)>,<行左右填充(左,右)>,<'constant'>,<填充值(上左,下右)>)\n",
    "# constant_values 先上下在左右填入\n",
    "B = np.pad(A,((1,1),(1,1)),'constant',constant_values = (1,2))\n",
    "print(B)"
   ]
  },
  {
   "cell_type": "code",
   "execution_count": 32,
   "metadata": {},
   "outputs": [
    {
     "name": "stdout",
     "output_type": "stream",
     "text": [
      "[[95 95 95 96 96 96]\n",
      " [95 95 95 96 96 96]\n",
      " [95 95 95 96 96 96]\n",
      " [97 97 97 98 98 98]\n",
      " [97 97 97 98 98 98]\n",
      " [97 97 97 98 98 98]]\n"
     ]
    }
   ],
   "source": [
    "# np.pad(<input>,<列上下填充(上,下)>,<行左右填充(左,右)>,<'edge'>)\n",
    "C = np.pad(A,((2,2),(2,2)),'edge')\n",
    "print(C)"
   ]
  },
  {
   "cell_type": "code",
   "execution_count": 37,
   "metadata": {},
   "outputs": [
    {
     "name": "stdout",
     "output_type": "stream",
     "text": [
      "[[ 1  1  1  1  1  1  2]\n",
      " [ 1  1  1  1  2  2  2]\n",
      " [ 1  1 95 96  2  2  2]\n",
      " [ 1  1 97 98  2  2  2]\n",
      " [ 1  1  2  2  2  2  2]\n",
      " [ 1  1  2  2  2  2  2]\n",
      " [ 1  2  2  2  2  2  2]]\n"
     ]
    }
   ],
   "source": [
    "D = np.pad(B,(1, 2),'linear_ramp',end_values=(1,2))\n",
    "print(D)"
   ]
  },
  {
   "cell_type": "code",
   "execution_count": 8,
   "metadata": {},
   "outputs": [
    {
     "name": "stdout",
     "output_type": "stream",
     "text": [
      "[[98 98 97 98 98 98 98]\n",
      " [98 98 97 98 98 98 98]\n",
      " [98 98 97 98 98 98 98]\n",
      " [96 96 95 96 96 96 96]\n",
      " [98 98 97 98 98 98 98]\n",
      " [98 98 97 98 98 98 98]\n",
      " [98 98 97 98 98 98 98]]\n"
     ]
    }
   ],
   "source": [
    "E = np.pad(A,((3,2),(2,3)),'maximum')\n",
    "print(E)"
   ]
  },
  {
   "cell_type": "code",
   "execution_count": null,
   "metadata": {},
   "outputs": [],
   "source": []
  }
 ],
 "metadata": {
  "kernelspec": {
   "display_name": "Python 3",
   "language": "python",
   "name": "python3"
  },
  "language_info": {
   "codemirror_mode": {
    "name": "ipython",
    "version": 3
   },
   "file_extension": ".py",
   "mimetype": "text/x-python",
   "name": "python",
   "nbconvert_exporter": "python",
   "pygments_lexer": "ipython3",
   "version": "3.8.0"
  }
 },
 "nbformat": 4,
 "nbformat_minor": 2
}
